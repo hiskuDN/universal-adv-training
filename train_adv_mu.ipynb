{
 "cells": [
  {
   "cell_type": "code",
   "execution_count": 2,
   "metadata": {},
   "outputs": [],
   "source": [
    "import numpy as np\n",
    "import tensorflow as tf\n",
    "import matplotlib.pyplot as plt\n",
    "import os\n",
    "from tensorflow.keras import layers\n",
    "from albumentations import (\n",
    "    Compose, RandomBrightness, JpegCompression, HueSaturationValue, RandomContrast, HorizontalFlip,\n",
    "    Rotate\n",
    ")"
   ]
  },
  {
   "cell_type": "code",
   "execution_count": 3,
   "metadata": {},
   "outputs": [],
   "source": [
    "(x_train, y_train), (x_test, y_test) = tf.keras.datasets.mnist.load_data()\n",
    "\n",
    "x_train = x_train.astype(\"float32\") / 255.0\n",
    "x_train = np.reshape(x_train, (-1, 28, 28, 1))\n",
    "y_train = tf.one_hot(y_train, 10)\n",
    "\n",
    "x_test = x_test.astype(\"float32\") / 255.0\n",
    "x_test = np.reshape(x_test, (-1, 28, 28, 1))\n",
    "y_test = tf.one_hot(y_test, 10)"
   ]
  },
  {
   "cell_type": "code",
   "execution_count": 4,
   "metadata": {},
   "outputs": [],
   "source": [
    "AUTO = tf.data.AUTOTUNE\n",
    "BATCH_SIZE = 64\n",
    "EPOCHS = 15"
   ]
  },
  {
   "attachments": {},
   "cell_type": "markdown",
   "metadata": {},
   "source": [
    "## Convert the data into TensorFlow `Dataset` objects"
   ]
  },
  {
   "cell_type": "code",
   "execution_count": 5,
   "metadata": {},
   "outputs": [],
   "source": [
    "# Put aside a few samples to create our validation set\n",
    "# val samples should be \n",
    "val_samples = 2000\n",
    "x_val, y_val = x_train[:val_samples], y_train[:val_samples]\n",
    "new_x_train, new_y_train = x_train[val_samples:], y_train[val_samples:]\n",
    "\n",
    "train_ds_one = (\n",
    "    tf.data.Dataset.from_tensor_slices((new_x_train, new_y_train))\n",
    "    .shuffle(BATCH_SIZE * 100)\n",
    "    .batch(BATCH_SIZE)\n",
    ")\n",
    "train_ds_two = (\n",
    "    tf.data.Dataset.from_tensor_slices((new_x_train, new_y_train))\n",
    "    .shuffle(BATCH_SIZE * 100)\n",
    "    .batch(BATCH_SIZE)\n",
    ")\n",
    "# Because we will be mixing up the images and their corresponding labels, we will be\n",
    "# combining two shuffled datasets from the same training data.\n",
    "train_ds = tf.data.Dataset.zip((train_ds_one, train_ds_two))\n",
    "\n",
    "val_ds = tf.data.Dataset.from_tensor_slices((x_val, y_val)).batch(BATCH_SIZE)\n",
    "\n",
    "test_ds = tf.data.Dataset.from_tensor_slices((x_test, y_test)).batch(BATCH_SIZE)"
   ]
  },
  {
   "attachments": {},
   "cell_type": "markdown",
   "metadata": {},
   "source": [
    "## Define the mixup technique function"
   ]
  },
  {
   "cell_type": "code",
   "execution_count": 1,
   "metadata": {},
   "outputs": [],
   "source": [
    "def sample_beta_distribution(size, concentration_0=0.2, concentration_1=0.2):\n",
    "    gamma_1_sample = tf.random.gamma(shape=[size], alpha=concentration_1)\n",
    "    gamma_2_sample = tf.random.gamma(shape=[size], alpha=concentration_0)\n",
    "    return gamma_1_sample / (gamma_1_sample + gamma_2_sample)\n",
    "\n",
    "\n",
    "def mix_up(ds_one, ds_two, alpha=0.2):\n",
    "    # Unpack two datasets\n",
    "    images_one, labels_one = ds_one\n",
    "    images_two, labels_two = ds_two\n",
    "    batch_size = tf.shape(images_one)[0]\n",
    "\n",
    "    # Sample lambda and reshape it to do the mixup\n",
    "    l = sample_beta_distribution(batch_size, alpha, alpha)\n",
    "    x_l = tf.reshape(l, (batch_size, 1, 1, 1))\n",
    "    y_l = tf.reshape(l, (batch_size, 1))\n",
    "\n",
    "    # Perform mixup on both images and labels by combining a pair of images/labels\n",
    "    # (one from each dataset) into one image/label\n",
    "    images = images_one * x_l + images_two * (1 - x_l)\n",
    "    labels = labels_one * y_l + labels_two * (1 - y_l)\n",
    "    return (images, labels, images_one, labels_one, images_two, labels_two)"
   ]
  },
  {
   "cell_type": "code",
   "execution_count": null,
   "metadata": {},
   "outputs": [],
   "source": []
  },
  {
   "attachments": {},
   "cell_type": "markdown",
   "metadata": {},
   "source": [
    "## Visualize the new augmented dataset"
   ]
  },
  {
   "cell_type": "code",
   "execution_count": 14,
   "metadata": {},
   "outputs": [
    {
     "name": "stdout",
     "output_type": "stream",
     "text": [
      "(64, 28, 28, 1) (64, 28, 28, 1)\n",
      "(TensorSpec(shape=(None, 28, 28, 1), dtype=tf.float32, name=None), TensorSpec(shape=(None, 10), dtype=tf.float32, name=None), TensorSpec(shape=(None, 28, 28, 1), dtype=tf.float32, name=None), TensorSpec(shape=(None, 10), dtype=tf.float32, name=None), TensorSpec(shape=(None, 28, 28, 1), dtype=tf.float32, name=None), TensorSpec(shape=(None, 10), dtype=tf.float32, name=None))\n"
     ]
    },
    {
     "data": {
      "image/png": "[encoded data removed]",
      "text/plain": [
       "<Figure size 500x500 with 1 Axes>"
      ]
     },
     "metadata": {},
     "output_type": "display_data"
    },
    {
     "data": {
      "image/png": "[encoded data removed]",
      "text/plain": [
       "<Figure size 640x480 with 1 Axes>"
      ]
     },
     "metadata": {},
     "output_type": "display_data"
    },
    {
     "data": {
      "image/png": "[encoded data removed]",
      "text/plain": [
       "<Figure size 640x480 with 1 Axes>"
      ]
     },
     "metadata": {},
     "output_type": "display_data"
    },
    {
     "data": {
      "image/png": "[encoded data removed]",
      "text/plain": [
       "<Figure size 640x480 with 1 Axes>"
      ]
     },
     "metadata": {},
     "output_type": "display_data"
    },
    {
     "data": {
      "image/png": "[encoded data removed]",
      "text/plain": [
       "<Figure size 640x480 with 1 Axes>"
      ]
     },
     "metadata": {},
     "output_type": "display_data"
    },
    {
     "data": {
      "image/png": "[encoded data removed]",
      "text/plain": [
       "<Figure size 640x480 with 1 Axes>"
      ]
     },
     "metadata": {},
     "output_type": "display_data"
    }
   ],
   "source": [
    "# First create the new dataset using our `mix_up` utility\n",
    "train_ds_mu = train_ds.map(\n",
    "    lambda ds_one, ds_two: mix_up(ds_one, ds_two, alpha=0.4), num_parallel_calls=AUTO\n",
    ")\n",
    "\n",
    "# Let's preview 9 samples from the dataset\n",
    "sample_images, sample_labels, images_one, labels_one, images_two, labels_two = next(iter(train_ds_mu))\n",
    "\n",
    "ds_one, ds_two = next(iter(train_ds))\n",
    "\n",
    "print(ds_one[0].shape, ds_two[0].shape)\n",
    "print(train_ds_mu.element_spec)\n",
    "\n",
    "# plot all ds_one and ds_two images\n",
    "# for i, (image, label) in enumerate(zip(ds_one[0][:6], ds_one[1][:6])):\n",
    "#     ax = plt.subplot(3, 3, i + 1)\n",
    "#     plt.imshow(image.numpy().squeeze(), cmap='gray')\n",
    "#     plt.axis(\"off\")\n",
    "    # plt.show()\n",
    "\n",
    "plt.figure(figsize=(5, 5))\n",
    "for i, (image, label) in enumerate(zip(sample_images[:2], sample_labels[:2])):\n",
    "    ax = plt.subplot(3, 3, i + 1)\n",
    "    plt.imshow(image.numpy().squeeze(), cmap='gray')\n",
    "    plt.axis(\"off\")\n",
    "    plt.show()\n",
    "\n",
    "    # also print the original images\n",
    "    ax = plt.subplot(3, 3, i + 4)\n",
    "    plt.imshow(images_one[i].numpy().squeeze(), cmap='gray')\n",
    "    plt.axis(\"off\")\n",
    "    plt.show()\n",
    "\n",
    "    ax = plt.subplot(3, 3, i + 4)\n",
    "    plt.imshow(images_two[i].numpy().squeeze(), cmap='gray')\n",
    "    plt.axis(\"off\")\n",
    "    plt.show()\n",
    "\n",
    "# plt.show()"
   ]
  },
  {
   "attachments": {},
   "cell_type": "markdown",
   "metadata": {},
   "source": [
    "## Model Building"
   ]
  },
  {
   "cell_type": "code",
   "execution_count": 14,
   "metadata": {},
   "outputs": [
    {
     "name": "stdout",
     "output_type": "stream",
     "text": [
      "Epoch 1/10\n",
      "454/454 [==============================] - 7s 14ms/step - loss: 0.1778 - categorical_accuracy: 0.9498 - val_loss: 0.0888 - val_categorical_accuracy: 0.9755\n",
      "Epoch 2/10\n",
      "454/454 [==============================] - 6s 14ms/step - loss: 0.0554 - categorical_accuracy: 0.9832 - val_loss: 0.0650 - val_categorical_accuracy: 0.9810\n",
      "Epoch 3/10\n",
      "454/454 [==============================] - 6s 13ms/step - loss: 0.0389 - categorical_accuracy: 0.9879 - val_loss: 0.0562 - val_categorical_accuracy: 0.9850\n",
      "Epoch 4/10\n",
      "454/454 [==============================] - 6s 13ms/step - loss: 0.0293 - categorical_accuracy: 0.9908 - val_loss: 0.0656 - val_categorical_accuracy: 0.9840\n",
      "Epoch 5/10\n",
      "454/454 [==============================] - 6s 14ms/step - loss: 0.0226 - categorical_accuracy: 0.9930 - val_loss: 0.0530 - val_categorical_accuracy: 0.9835\n",
      "Epoch 6/10\n",
      "454/454 [==============================] - 6s 14ms/step - loss: 0.0183 - categorical_accuracy: 0.9944 - val_loss: 0.0543 - val_categorical_accuracy: 0.9865\n",
      "Epoch 7/10\n",
      "454/454 [==============================] - 6s 13ms/step - loss: 0.0132 - categorical_accuracy: 0.9957 - val_loss: 0.0629 - val_categorical_accuracy: 0.9865\n",
      "Epoch 8/10\n",
      "454/454 [==============================] - 6s 14ms/step - loss: 0.0116 - categorical_accuracy: 0.9962 - val_loss: 0.0658 - val_categorical_accuracy: 0.9865\n",
      "Epoch 9/10\n",
      "454/454 [==============================] - 6s 14ms/step - loss: 0.0095 - categorical_accuracy: 0.9968 - val_loss: 0.0700 - val_categorical_accuracy: 0.9835\n",
      "Epoch 10/10\n",
      "454/454 [==============================] - 6s 14ms/step - loss: 0.0093 - categorical_accuracy: 0.9968 - val_loss: 0.0555 - val_categorical_accuracy: 0.9875\n"
     ]
    },
    {
     "data": {
      "text/plain": [
       "<keras.callbacks.History at 0x7fd3ae47bcd0>"
      ]
     },
     "execution_count": 14,
     "metadata": {},
     "output_type": "execute_result"
    }
   ],
   "source": [
    "model = tf.keras.models.Sequential([\n",
    "    layers.Conv2D(16, (5, 5), activation=\"relu\", input_shape=(28, 28, 1)),\n",
    "    layers.Conv2D(32, (5, 5), activation=\"relu\"),\n",
    "    layers.Flatten(),\n",
    "    layers.Dense(10, activation=\"softmax\"),\n",
    "])\n",
    "\n",
    "    # layers.Conv2D(32, (3, 3), activation='relu', kernel_initializer='he_uniform', input_shape=(28, 28, 1)),\n",
    "    # layers.MaxPooling2D((2, 2)),\n",
    "    # layers.Flatten(),\n",
    "    # layers.Dense(128, activation='relu'),\n",
    "    # layers.Dense(10)\n",
    "\n",
    "model.compile(\n",
    "    optimizer=tf.keras.optimizers.Adam(0.001),\n",
    "    loss=tf.keras.losses.CategoricalCrossentropy(),\n",
    "    metrics=[tf.keras.metrics.CategoricalAccuracy()],\n",
    ")\n",
    "\n",
    "model.fit(\n",
    "    train_ds_one,\n",
    "    epochs=EPOCHS,\n",
    "    validation_data=val_ds,\n",
    "    shuffle=True\n",
    ")"
   ]
  },
  {
   "cell_type": "code",
   "execution_count": 10,
   "metadata": {},
   "outputs": [],
   "source": [
    "# save model\n",
    "model.save('assets/models_mu/mnist_model.h5')"
   ]
  },
  {
   "attachments": {},
   "cell_type": "markdown",
   "metadata": {},
   "source": [
    "#### Define Function to combine adv dataset with train, val and test datasets"
   ]
  },
  {
   "cell_type": "code",
   "execution_count": 6,
   "metadata": {},
   "outputs": [
    {
     "name": "stderr",
     "output_type": "stream",
     "text": [
      "/usr/local/lib/python3.8/dist-packages/albumentations/augmentations/transforms.py:1149: FutureWarning: This class has been deprecated. Please use RandomBrightnessContrast\n",
      "  warnings.warn(\n",
      "/usr/local/lib/python3.8/dist-packages/albumentations/augmentations/transforms.py:1175: FutureWarning: RandomContrast has been deprecated. Please use RandomBrightnessContrast\n",
      "  warnings.warn(\n"
     ]
    }
   ],
   "source": [
    "transforms = Compose([\n",
    "        RandomBrightness(limit=0.1),\n",
    "        HueSaturationValue(hue_shift_limit=20, sat_shift_limit=30, val_shift_limit=20, p=0.5),\n",
    "        RandomContrast(limit=0.2, p=0.5),\n",
    "        HorizontalFlip(p=0.5),\n",
    "    ])\n",
    "\n",
    "def aug_fn(image, img_size):\n",
    "    data = {\"image\":image}\n",
    "    aug_data = transforms(**data)\n",
    "    aug_img = aug_data[\"image\"]\n",
    "    return aug_img"
   ]
  },
  {
   "cell_type": "code",
   "execution_count": 70,
   "metadata": {},
   "outputs": [],
   "source": [
    "def merge_adv(X_adv_train, y_adv_train, adv_mixup=False, allow_aug = False):\n",
    "    val_samples = 2000\n",
    "    x_val, y_val = x_train[:val_samples], y_train[:val_samples]\n",
    "    new_x_train, new_y_train = x_train[val_samples:], y_train[val_samples:]\n",
    "\n",
    "    if(adv_mixup):\n",
    "        # apply transforms to new_x_train\n",
    "        if(allow_aug):\n",
    "            X_adv_train = np.array([aug_fn(image, 28) for image in X_adv_train])\n",
    "\n",
    "        # create train_ds_one_adv and train_ds_two_adv\n",
    "        train_ds_one_adv = (\n",
    "            tf.data.Dataset.from_tensor_slices((X_adv_train, y_adv_train))\n",
    "            .shuffle(BATCH_SIZE * 100)\n",
    "            .batch(BATCH_SIZE)\n",
    "        )\n",
    "\n",
    "        train_ds_two_adv = (\n",
    "            tf.data.Dataset.from_tensor_slices((X_adv_train, y_adv_train))\n",
    "            .shuffle(BATCH_SIZE * 100)\n",
    "            .batch(BATCH_SIZE)\n",
    "        )\n",
    "\n",
    "        # Because we will be mixing up the images and their corresponding labels, we will be\n",
    "        # combining two shuffled datasets from the same training data.\n",
    "        train_ds_adv = tf.data.Dataset.zip((train_ds_one_adv, train_ds_two_adv))\n",
    "\n",
    "        val_ds_adv = tf.data.Dataset.from_tensor_slices(\n",
    "            (x_val, y_val)).batch(BATCH_SIZE)\n",
    "\n",
    "        test_ds_adv = tf.data.Dataset.from_tensor_slices(\n",
    "            (x_test, y_test)).batch(BATCH_SIZE)\n",
    "\n",
    "        train_ds_mu_adv = train_ds_adv.map(\n",
    "            lambda ds_one, ds_two: mix_up(ds_one, ds_two, alpha=0.2), num_parallel_calls=AUTO\n",
    "        )\n",
    "\n",
    "        # concat X_adv_train, y_adv_train to train_ds_mu\n",
    "        train_ds = (\n",
    "            tf.data.Dataset.from_tensor_slices((new_x_train, new_y_train))\n",
    "            .shuffle(BATCH_SIZE * 100)\n",
    "            .batch(BATCH_SIZE)\n",
    "        )\n",
    "\n",
    "        train_ds_adv = train_ds_mu_adv.concatenate(train_ds)\n",
    "\n",
    "        return train_ds_adv, val_ds_adv, test_ds_adv\n",
    "\n",
    "    else:\n",
    "\n",
    "        # apply transforms to new_x_train\n",
    "        if(allow_aug):\n",
    "            new_x_train = np.array([aug_fn(image, 28) for image in new_x_train])\n",
    "\n",
    "         # create train_ds_one and train_ds_two\n",
    "        train_ds_one = (\n",
    "            tf.data.Dataset.from_tensor_slices((new_x_train, new_y_train))\n",
    "            .shuffle(BATCH_SIZE * 100)\n",
    "            .batch(BATCH_SIZE)\n",
    "        )\n",
    "\n",
    "        train_ds_two = (\n",
    "            tf.data.Dataset.from_tensor_slices((new_x_train, new_y_train))\n",
    "            .shuffle(BATCH_SIZE * 100)\n",
    "            .batch(BATCH_SIZE)\n",
    "        )\n",
    "\n",
    "        # Because we will be mixing up the images and their corresponding labels, we will be\n",
    "        # combining two shuffled datasets from the same training data.\n",
    "        train_ds = tf.data.Dataset.zip((train_ds_one, train_ds_two))\n",
    "\n",
    "        val_ds = tf.data.Dataset.from_tensor_slices((x_val, y_val)).batch(BATCH_SIZE)\n",
    "\n",
    "        test_ds = tf.data.Dataset.from_tensor_slices((x_test, y_test)).batch(BATCH_SIZE)\n",
    "        \n",
    "        train_ds_mu = train_ds.map(\n",
    "            lambda ds_one, ds_two: mix_up(ds_one, ds_two, alpha=0.2), num_parallel_calls=AUTO\n",
    "        )\n",
    "\n",
    "        # concat X_adv_train, y_adv_train to train_ds_mu\n",
    "        train_ds_adv = (\n",
    "            tf.data.Dataset.from_tensor_slices((X_adv_train, y_adv_train))\n",
    "            .shuffle(BATCH_SIZE * 100)\n",
    "            .batch(BATCH_SIZE)\n",
    "        )\n",
    "        \n",
    "        train_ds_adv = train_ds_adv.concatenate(train_ds_mu)\n",
    "\n",
    "        return train_ds_adv, val_ds, test_ds\n"
   ]
  },
  {
   "cell_type": "code",
   "execution_count": 71,
   "metadata": {},
   "outputs": [
    {
     "name": "stdout",
     "output_type": "stream",
     "text": [
      "Training on: z3\n"
     ]
    },
    {
     "data": {
      "image/png": "[encoded data removed]",
      "text/plain": [
       "<Figure size 200x200 with 1 Axes>"
      ]
     },
     "metadata": {},
     "output_type": "display_data"
    },
    {
     "name": "stdout",
     "output_type": "stream",
     "text": [
      "Epoch 1/15\n",
      "1087/1087 - 11s - loss: 1.8601 - categorical_accuracy: 0.3320 - val_loss: 1.4989 - val_categorical_accuracy: 0.4015 - 11s/epoch - 10ms/step\n",
      "Epoch 2/15\n",
      "1087/1087 - 11s - loss: 1.4928 - categorical_accuracy: 0.3685 - val_loss: 1.2944 - val_categorical_accuracy: 0.4025 - 11s/epoch - 10ms/step\n",
      "Epoch 3/15\n",
      "1087/1087 - 11s - loss: 1.3701 - categorical_accuracy: 0.3803 - val_loss: 1.2101 - val_categorical_accuracy: 0.4285 - 11s/epoch - 10ms/step\n",
      "Epoch 4/15\n",
      "1087/1087 - 10s - loss: 0.9935 - categorical_accuracy: 0.6129 - val_loss: 0.6439 - val_categorical_accuracy: 0.6960 - 10s/epoch - 9ms/step\n",
      "Epoch 5/15\n",
      "1087/1087 - 10s - loss: 0.7599 - categorical_accuracy: 0.6541 - val_loss: 0.5379 - val_categorical_accuracy: 0.7750 - 10s/epoch - 9ms/step\n",
      "Epoch 6/15\n",
      "1087/1087 - 10s - loss: 0.5571 - categorical_accuracy: 0.8437 - val_loss: 0.2140 - val_categorical_accuracy: 0.9860 - 10s/epoch - 9ms/step\n",
      "Epoch 7/15\n",
      "1087/1087 - 10s - loss: 0.3569 - categorical_accuracy: 0.9095 - val_loss: 0.1100 - val_categorical_accuracy: 0.9885 - 10s/epoch - 9ms/step\n",
      "Epoch 8/15\n",
      "1087/1087 - 10s - loss: 0.3015 - categorical_accuracy: 0.9140 - val_loss: 0.0893 - val_categorical_accuracy: 0.9880 - 10s/epoch - 9ms/step\n",
      "Epoch 9/15\n",
      "1087/1087 - 10s - loss: 0.2760 - categorical_accuracy: 0.9169 - val_loss: 0.0623 - val_categorical_accuracy: 0.9910 - 10s/epoch - 9ms/step\n",
      "Epoch 10/15\n",
      "1087/1087 - 10s - loss: 0.2598 - categorical_accuracy: 0.9198 - val_loss: 0.0695 - val_categorical_accuracy: 0.9880 - 10s/epoch - 9ms/step\n",
      "Epoch 11/15\n",
      "1087/1087 - 10s - loss: 0.2553 - categorical_accuracy: 0.9198 - val_loss: 0.0644 - val_categorical_accuracy: 0.9895 - 10s/epoch - 9ms/step\n",
      "Epoch 12/15\n",
      "1087/1087 - 10s - loss: 0.2504 - categorical_accuracy: 0.9204 - val_loss: 0.0694 - val_categorical_accuracy: 0.9860 - 10s/epoch - 9ms/step\n",
      "Epoch 13/15\n",
      "1087/1087 - 10s - loss: 0.2441 - categorical_accuracy: 0.9216 - val_loss: 0.0721 - val_categorical_accuracy: 0.9855 - 10s/epoch - 9ms/step\n",
      "Epoch 14/15\n",
      "1087/1087 - 10s - loss: 0.2443 - categorical_accuracy: 0.9211 - val_loss: 0.0883 - val_categorical_accuracy: 0.9820 - 10s/epoch - 9ms/step\n",
      "Epoch 15/15\n",
      "1087/1087 - 10s - loss: 0.2401 - categorical_accuracy: 0.9229 - val_loss: 0.0711 - val_categorical_accuracy: 0.9865 - 10s/epoch - 9ms/step\n",
      "Training on: z6\n"
     ]
    },
    {
     "data": {
      "image/png": "[encoded data removed]",
      "text/plain": [
       "<Figure size 200x200 with 1 Axes>"
      ]
     },
     "metadata": {},
     "output_type": "display_data"
    },
    {
     "name": "stdout",
     "output_type": "stream",
     "text": [
      "Epoch 1/15\n",
      "1074/1074 - 11s - loss: 2.0668 - categorical_accuracy: 0.2425 - val_loss: 1.6281 - val_categorical_accuracy: 0.4010 - 11s/epoch - 10ms/step\n",
      "Epoch 2/15\n",
      "1074/1074 - 10s - loss: 1.4134 - categorical_accuracy: 0.4464 - val_loss: 1.1106 - val_categorical_accuracy: 0.5135 - 10s/epoch - 9ms/step\n",
      "Epoch 3/15\n",
      "1074/1074 - 10s - loss: 1.1687 - categorical_accuracy: 0.4852 - val_loss: 0.9117 - val_categorical_accuracy: 0.6170 - 10s/epoch - 10ms/step\n",
      "Epoch 4/15\n",
      "1074/1074 - 10s - loss: 0.9030 - categorical_accuracy: 0.6118 - val_loss: 0.5987 - val_categorical_accuracy: 0.7125 - 10s/epoch - 9ms/step\n",
      "Epoch 5/15\n",
      "1074/1074 - 10s - loss: 0.7110 - categorical_accuracy: 0.6863 - val_loss: 0.4537 - val_categorical_accuracy: 0.7975 - 10s/epoch - 9ms/step\n",
      "Epoch 6/15\n",
      "1074/1074 - 10s - loss: 0.5758 - categorical_accuracy: 0.7477 - val_loss: 0.3770 - val_categorical_accuracy: 0.7970 - 10s/epoch - 9ms/step\n",
      "Epoch 7/15\n",
      "1074/1074 - 11s - loss: 0.4736 - categorical_accuracy: 0.8261 - val_loss: 0.2412 - val_categorical_accuracy: 0.8995 - 11s/epoch - 10ms/step\n",
      "Epoch 8/15\n",
      "1074/1074 - 10s - loss: 0.3511 - categorical_accuracy: 0.9045 - val_loss: 0.1179 - val_categorical_accuracy: 0.9855 - 10s/epoch - 10ms/step\n",
      "Epoch 9/15\n",
      "1074/1074 - 10s - loss: 0.2782 - categorical_accuracy: 0.9213 - val_loss: 0.0850 - val_categorical_accuracy: 0.9860 - 10s/epoch - 10ms/step\n",
      "Epoch 10/15\n",
      "1074/1074 - 10s - loss: 0.2592 - categorical_accuracy: 0.9224 - val_loss: 0.0727 - val_categorical_accuracy: 0.9865 - 10s/epoch - 9ms/step\n",
      "Epoch 11/15\n",
      "1074/1074 - 10s - loss: 0.2440 - categorical_accuracy: 0.9257 - val_loss: 0.0706 - val_categorical_accuracy: 0.9860 - 10s/epoch - 9ms/step\n",
      "Epoch 12/15\n",
      "1074/1074 - 11s - loss: 0.2359 - categorical_accuracy: 0.9274 - val_loss: 0.0687 - val_categorical_accuracy: 0.9870 - 11s/epoch - 10ms/step\n",
      "Epoch 13/15\n",
      "1074/1074 - 10s - loss: 0.2288 - categorical_accuracy: 0.9293 - val_loss: 0.0540 - val_categorical_accuracy: 0.9895 - 10s/epoch - 10ms/step\n",
      "Epoch 14/15\n",
      "1074/1074 - 10s - loss: 0.2266 - categorical_accuracy: 0.9275 - val_loss: 0.0574 - val_categorical_accuracy: 0.9895 - 10s/epoch - 9ms/step\n",
      "Epoch 15/15\n",
      "1074/1074 - 10s - loss: 0.2238 - categorical_accuracy: 0.9295 - val_loss: 0.0629 - val_categorical_accuracy: 0.9875 - 10s/epoch - 10ms/step\n"
     ]
    }
   ],
   "source": [
    "# iterate through each mnist zico defense by attack folder and train on the images inside them\n",
    "folder_path = 'assets/'\n",
    "adv_models = {}\n",
    "\n",
    "for adv_path in os.listdir(folder_path):\n",
    "    # if attack folder contains string and is a folder\n",
    "    if 'mnist_zico_defense_by_attack' in adv_path and os.path.isdir(os.path.join(folder_path, adv_path)):\n",
    "        id = adv_path.split('_')[-1]\n",
    "        if(id == 'z3' or id == 'z6'):\n",
    "            print(f'Training on: {id}')\n",
    "            # load mnist_adv dataset\n",
    "            adv_files = []\n",
    "            X = []\n",
    "            y = []\n",
    "\n",
    "            # for loop to load all the images\n",
    "            for source in range(10):\n",
    "                for target in range(10):\n",
    "                    if(source != target):\n",
    "                        file = np.load(os.path.join(folder_path, adv_path) + '/from' + str(source) + 'to' + str(target) + '.npz')\n",
    "                        adv_files.append(file)\n",
    "                        y.extend(np.full(len(file['adv_imgs']), source).tolist())\n",
    "\n",
    "            keys = adv_files[0].files\n",
    "\n",
    "            for file in adv_files:\n",
    "                with file as data:\n",
    "                    X.extend(data[keys[0]])\n",
    "\n",
    "            X = np.array(X).astype(np.float32)\n",
    "            y = np.array(y)\n",
    "            y_one_hot = np.take(np.eye(10), y, axis=0).astype(np.float32)\n",
    "\n",
    "            plt.figure(figsize=(2, 2))\n",
    "            plt.imshow(X[0], cmap='gray')\n",
    "            plt.show()\n",
    "\n",
    "            # merge X_train_adv_1 and y_train_adv_1 to create a new dataset\n",
    "            train_ds_mu_adv, val_ds_adv, test_ds_adv = merge_adv(X, y_one_hot, adv_mixup=True, allow_aug=True)\n",
    "\n",
    "            model_adv = tf.keras.models.Sequential([\n",
    "                layers.Conv2D(16, 5, activation=\"relu\", input_shape=(28, 28, 1)),\n",
    "                layers.Conv2D(32, 5, activation=\"relu\"),\n",
    "                layers.Flatten(),\n",
    "                layers.Dense(128, activation=\"softmax\"),\n",
    "                layers.Dense(10, activation=\"softmax\"),\n",
    "            ])\n",
    "\n",
    "            model_adv.compile(\n",
    "                optimizer=tf.keras.optimizers.Adam(0.001),\n",
    "                loss=tf.keras.losses.CategoricalCrossentropy(),\n",
    "                metrics=[tf.keras.metrics.CategoricalAccuracy()],\n",
    "            )\n",
    "\n",
    "            model_adv.fit(\n",
    "                train_ds_mu_adv,\n",
    "                epochs=EPOCHS,\n",
    "                validation_data=val_ds_adv,\n",
    "                shuffle=True,\n",
    "                verbose=2\n",
    "            )\n",
    "\n",
    "            adv_models[id] = model_adv"
   ]
  },
  {
   "cell_type": "code",
   "execution_count": 72,
   "metadata": {},
   "outputs": [],
   "source": [
    "for adv_model in adv_models:\n",
    "    # save model_adv\n",
    "    adv_models[adv_model].save(f'assets/models_mu/mnist_adv_model_{adv_model}.h5')"
   ]
  }
 ],
 "metadata": {
  "kernelspec": {
   "display_name": "Python 3",
   "language": "python",
   "name": "python3"
  },
  "language_info": {
   "codemirror_mode": {
    "name": "ipython",
    "version": 3
   },
   "file_extension": ".py",
   "mimetype": "text/x-python",
   "name": "python",
   "nbconvert_exporter": "python",
   "pygments_lexer": "ipython3",
   "version": "3.9.0"
  },
  "orig_nbformat": 4
 },
 "nbformat": 4,
 "nbformat_minor": 2
}

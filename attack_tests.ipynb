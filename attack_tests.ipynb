{
 "cells": [
  {
   "attachments": {},
   "cell_type": "markdown",
   "metadata": {},
   "source": [
    "# Attack Tests remade (23.01.26)"
   ]
  },
  {
   "cell_type": "code",
   "execution_count": 41,
   "metadata": {
    "vscode": {
     "languageId": "python"
    }
   },
   "outputs": [],
   "source": [
    "import warnings\n",
    "warnings.filterwarnings('ignore')\n",
    "import os\n",
    "from keras.models import load_model\n",
    "import tensorflow as tf\n",
    "import tensorflow_datasets as tfds\n",
    "\n",
    "from art import config\n",
    "from art.utils import load_dataset, get_file\n",
    "from art.estimators.classification import KerasClassifier\n",
    "from art.attacks.evasion import FastGradientMethod\n",
    "from art.attacks.evasion import BasicIterativeMethod\n",
    "from art.defences.trainer import AdversarialTrainer\n",
    "from art.defences.trainer import AdversarialTrainerMadryPGD\n",
    "from art.estimators.classification import KerasClassifier\n",
    "\n",
    "import numpy as np\n",
    "\n",
    "%matplotlib inline\n",
    "import matplotlib.pyplot as plt"
   ]
  },
  {
   "attachments": {},
   "cell_type": "markdown",
   "metadata": {},
   "source": [
    "#### Import Models"
   ]
  },
  {
   "cell_type": "code",
   "execution_count": 33,
   "metadata": {
    "vscode": {
     "languageId": "python"
    }
   },
   "outputs": [],
   "source": [
    "folder_path = 'assets/models_mu/'\n",
    "adv_models_mu = {}\n",
    "for adv_model in os.listdir(folder_path):\n",
    "    if '.h5' in adv_model:\n",
    "        id = adv_model.split('_')[-1].split('.')[0]\n",
    "        adv_models_mu[id] = load_model(folder_path + adv_model)\n",
    "\n",
    "folder_path = 'assets/models_mu_transform/'\n",
    "adv_models_mu_transform = {}\n",
    "for adv_model in os.listdir(folder_path):\n",
    "    if '.h5' in adv_model:\n",
    "        id = adv_model.split('_')[-1].split('.')[0]\n",
    "        adv_models_mu_transform[id] = load_model(folder_path + adv_model)"
   ]
  },
  {
   "cell_type": "code",
   "execution_count": 34,
   "metadata": {
    "vscode": {
     "languageId": "python"
    }
   },
   "outputs": [],
   "source": [
    "adv_models_mu = dict(sorted(adv_models_mu.items()))\n",
    "adv_models_mu_transform = dict(sorted(adv_models_mu_transform.items()))"
   ]
  },
  {
   "cell_type": "code",
   "execution_count": 4,
   "metadata": {
    "vscode": {
     "languageId": "python"
    }
   },
   "outputs": [],
   "source": [
    "model = tf.keras.models.load_model('assets/models/mnist_zico.h5')\n",
    "model_madry = tf.keras.models.load_model('assets/models/mnist_madry_zico_model.h5')\n",
    "model_adv = tf.keras.models.load_model('assets/models/mnist_adv_model.h5')\n",
    "model_adv_v2 = tf.keras.models.load_model('assets/models/mnist_adv_model_v2.h5')\n",
    "model_adv_v3 = tf.keras.models.load_model('assets/models/mnist_adv_model_v3.h5')\n",
    "model_adv_v3_2 = tf.keras.models.load_model('assets/models/mnist_adv_model_v3_2.h5')\n",
    "model_adv_v4 = tf.keras.models.load_model('assets/models/mnist_adv_model_v4.h5')\n",
    "model_adv_v5 = tf.keras.models.load_model('assets/models/mnist_adv_model_v5.h5')\n",
    "model_adv_v6 = tf.keras.models.load_model('assets/models/mnist_adv_model_v6.h5')\n",
    "model_adv_v6 = tf.keras.models.load_model('assets/models/mnist_adv_model_v6.h5')\n",
    "# model_final = tf.keras.models.load_model('research/models/mnist_adv_model_final.h5')"
   ]
  },
  {
   "attachments": {},
   "cell_type": "markdown",
   "metadata": {},
   "source": [
    "## Import Data"
   ]
  },
  {
   "attachments": {},
   "cell_type": "markdown",
   "metadata": {},
   "source": [
    "### MNIST"
   ]
  },
  {
   "cell_type": "code",
   "execution_count": 3,
   "metadata": {
    "vscode": {
     "languageId": "python"
    }
   },
   "outputs": [],
   "source": [
    "(x_art_train, y_art_train), (x_art_test, y_art_test), min_, max_ = load_dataset('mnist')"
   ]
  },
  {
   "cell_type": "code",
   "execution_count": 4,
   "metadata": {
    "vscode": {
     "languageId": "python"
    }
   },
   "outputs": [],
   "source": [
    "(x_train, y_train), (x_test, y_test) = tf.keras.datasets.mnist.load_data()"
   ]
  },
  {
   "cell_type": "code",
   "execution_count": 5,
   "metadata": {
    "vscode": {
     "languageId": "python"
    }
   },
   "outputs": [],
   "source": [
    "# resize x_train and x_test\n",
    "x_train = x_train.reshape(-1, 28, 28, 1)\n",
    "x_test = x_test.reshape(-1, 28, 28, 1)"
   ]
  },
  {
   "cell_type": "code",
   "execution_count": 6,
   "metadata": {
    "vscode": {
     "languageId": "python"
    }
   },
   "outputs": [],
   "source": [
    "# load mnist\n",
    "(train_images, train_labels), (test_images, test_labels) = tf.keras.datasets.mnist.load_data()\n",
    "\n",
    "train_images = train_images / 255.0\n",
    "test_images = test_images / 255.0\n",
    "\n",
    "num_classes = 10"
   ]
  },
  {
   "attachments": {},
   "cell_type": "markdown",
   "metadata": {},
   "source": [
    "### PGD, FGSM and SPSA Images"
   ]
  },
  {
   "cell_type": "code",
   "execution_count": 4,
   "metadata": {
    "vscode": {
     "languageId": "python"
    }
   },
   "outputs": [
    {
     "name": "stdout",
     "output_type": "stream",
     "text": [
      "(140000, 28, 28, 1)\n",
      "(140000, 1)\n",
      "(140000, 28, 28, 1)\n",
      "(140000, 1)\n",
      "(400, 28, 28, 1)\n",
      "(400, 1)\n"
     ]
    }
   ],
   "source": [
    "# load fgsm and pgd images and labels\n",
    "# import fgsm and pgd adversarial sampels\n",
    "pgd_images_zico = np.load('assets/pgd_images_zico.npz')['images']\n",
    "pgd_labels_zico = np.load('assets/pgd_images_zico.npz')['labels']\n",
    "pgd_labels_zico_onehot = np.take(np.eye(10, dtype=np.float32), pgd_labels_zico, axis=0)\n",
    "\n",
    "fgsm_images_zico = np.load('assets/fgsm_images_zico.npz')['images']\n",
    "fgsm_labels_zico = np.load('assets/fgsm_images_zico.npz')['labels']\n",
    "fgsm_labels_zico_onehot = np.take(np.eye(10, dtype=np.float32), fgsm_labels_zico, axis=0)\n",
    "\n",
    "spsa_images_zico = np.load('assets/spsa_images_zico.npz')['images']\n",
    "spsa_labels_zico = np.load('assets/spsa_images_zico.npz')['labels']\n",
    "spsa_labels_zico_onehot = np.take(np.eye(10), spsa_labels_zico.astype(np.int64), axis=0)\n",
    "\n",
    "# reshape pgd and fgsm images to 28, 28, 1\n",
    "pgd_images_zico = np.reshape(pgd_images_zico, (len(pgd_images_zico), 28, 28, 1))\n",
    "fgsm_images_zico = np.reshape(fgsm_images_zico, (len(fgsm_images_zico), 28, 28, 1))\n",
    "spsa_images_zico = np.reshape(spsa_images_zico, (len(spsa_images_zico), 28, 28, 1))\n",
    "\n",
    "print(pgd_images_zico.shape)\n",
    "print(pgd_labels_zico.shape)\n",
    "print(fgsm_images_zico.shape)\n",
    "print(fgsm_labels_zico.shape)   \n",
    "print(spsa_images_zico.shape)\n",
    "print(spsa_labels_zico.shape)"
   ]
  },
  {
   "cell_type": "code",
   "execution_count": 5,
   "metadata": {
    "vscode": {
     "languageId": "python"
    }
   },
   "outputs": [
    {
     "data": {
      "image/png": "[encoded data removed]",
      "text/plain": [
       "<Figure size 432x288 with 1 Axes>"
      ]
     },
     "metadata": {
      "needs_background": "light"
     },
     "output_type": "display_data"
    },
    {
     "name": "stdout",
     "output_type": "stream",
     "text": [
      "[[    0     1     2     3     4     5     6     7     8     9]\n",
      " [13720 15890 14448 14140 13748 12488 13412 14392 13636 14126]]\n"
     ]
    }
   ],
   "source": [
    "plt.imshow(fgsm_images_zico[10000], cmap='gray')\n",
    "plt.show()\n",
    "\n",
    "# show the first 1000 unique labels and counts\n",
    "unique, counts = np.unique(fgsm_labels_zico, return_counts=True)\n",
    "print(np.asarray((unique, counts)))\n",
    "\n",
    "# take the first 10000 labels and images because higher epsilon values make the image unrecognizable\n",
    "fgsm_images_zico = fgsm_images_zico[:10000]\n",
    "fgsm_labels_zico = fgsm_labels_zico[:10000]\n",
    "fgsm_labels_zico_onehot = fgsm_labels_zico_onehot[:10000]\n",
    "\n",
    "# squeeze fgsm_labels_zico and pgd_labels_zico to remove the extra dimension\n",
    "fgsm_labels_zico = np.squeeze(fgsm_labels_zico)\n",
    "fgsm_labels_zico_onehot = fgsm_labels_zico_onehot.reshape(-1, 10)\n",
    "pgd_labels_zico = np.squeeze(pgd_labels_zico)\n",
    "pgd_labels_zico_onehot = pgd_labels_zico_onehot.reshape(-1, 10)\n",
    "spsa_labels_zico = np.squeeze(spsa_labels_zico)\n",
    "spsa_labels_zico_onehot = spsa_labels_zico_onehot.reshape(-1, 10)"
   ]
  },
  {
   "attachments": {},
   "cell_type": "markdown",
   "metadata": {},
   "source": [
    "### BIM Images"
   ]
  },
  {
   "cell_type": "code",
   "execution_count": 18,
   "metadata": {
    "vscode": {
     "languageId": "python"
    }
   },
   "outputs": [
    {
     "name": "stdout",
     "output_type": "stream",
     "text": [
      "(10000, 28, 28, 1)\n",
      "(10000,)\n",
      "(10000, 10)\n"
     ]
    }
   ],
   "source": [
    "# load images and labels\n",
    "# import adversarial sampels\n",
    "bim_images = np.load('assets/bim_images.npz')['images']\n",
    "bim_labels = np.load('assets/bim_images.npz')['labels']\n",
    "bim_labels_onehot = np.take(np.eye(10), bim_labels.astype(np.int64), axis=0)\n",
    "\n",
    "\n",
    "# reshape images to 28, 28, 1\n",
    "bim_images = np.reshape(bim_images, (len(bim_images), 28, 28, 1))\n",
    "\n",
    "print(bim_images.shape)\n",
    "print(bim_labels.shape)\n",
    "print(bim_labels_onehot.shape)"
   ]
  },
  {
   "attachments": {},
   "cell_type": "markdown",
   "metadata": {},
   "source": [
    "### Unrestricted Attacks"
   ]
  },
  {
   "cell_type": "code",
   "execution_count": 19,
   "metadata": {
    "vscode": {
     "languageId": "python"
    }
   },
   "outputs": [
    {
     "data": {
      "image/png": "[encoded data removed]",
      "text/plain": [
       "<Figure size 432x288 with 1 Axes>"
      ]
     },
     "metadata": {
      "needs_background": "light"
     },
     "output_type": "display_data"
    },
    {
     "name": "stdout",
     "output_type": "stream",
     "text": [
      "(94372, 28, 28, 1)\n",
      "(94372,)\n",
      "(94372, 10)\n"
     ]
    }
   ],
   "source": [
    "import numpy as np \n",
    "import matplotlib.pyplot as plt\n",
    "\n",
    "# load mnist_adv dataset\n",
    "# adv_path = 'assets/data/mnist_adv/'\n",
    "adv_path = 'assets/mnist_zico_defense_by_attack_with_z0/'\n",
    "adv_files = []\n",
    "unrestricted_img = []\n",
    "unrestricted_label = []\n",
    "\n",
    "# for loop to load all the images\n",
    "for source in range(10):\n",
    "    for target in range(10):\n",
    "        if(source != target):\n",
    "            file = np.load(adv_path + 'from' + str(source) + 'to' + str(target) + '.npz')\n",
    "            adv_files.append(file)\n",
    "            unrestricted_label.extend(np.full(len(file['adv_imgs']), source).tolist())\n",
    "\n",
    "keys = adv_files[0].files\n",
    "\n",
    "for file in adv_files:\n",
    "    with file as data:\n",
    "        unrestricted_img.extend(data[keys[0]])\n",
    "\n",
    "unrestricted_img = np.array(unrestricted_img)\n",
    "unrestricted_label = np.array(unrestricted_label)\n",
    "y_one_hot = np.take(np.eye(10), unrestricted_label, axis=0)\n",
    "\n",
    "plt.imshow(unrestricted_img[0], cmap='gray')\n",
    "plt.show()\n",
    "print(unrestricted_img.shape)\n",
    "print(unrestricted_label.shape)\n",
    "print(y_one_hot.shape)"
   ]
  },
  {
   "attachments": {},
   "cell_type": "markdown",
   "metadata": {},
   "source": [
    "### MIM"
   ]
  },
  {
   "cell_type": "code",
   "execution_count": 20,
   "metadata": {
    "vscode": {
     "languageId": "python"
    }
   },
   "outputs": [
    {
     "name": "stdout",
     "output_type": "stream",
     "text": [
      "(400, 28, 28, 1)\n",
      "(400, 1)\n",
      "(400, 10)\n"
     ]
    }
   ],
   "source": [
    "# load images and labels\n",
    "# import adversarial sampels\n",
    "mim_images = np.load('assets/mim_images_zico.npz')['images']\n",
    "mim_labels = np.load('assets/mim_images_zico.npz')['labels']\n",
    "mim_labels_onehot = np.take(np.eye(10), mim_labels.astype(np.int64), axis=0)\n",
    "mim_labels_onehot = mim_labels_onehot.reshape(-1, 10)\n",
    "\n",
    "# reshape images to 28, 28, 1\n",
    "mim_images = np.reshape(mim_images, (len(mim_images), 28, 28, 1))\n",
    "\n",
    "print(mim_images.shape)\n",
    "print(mim_labels.shape)\n",
    "print(mim_labels_onehot.shape)"
   ]
  },
  {
   "attachments": {},
   "cell_type": "markdown",
   "metadata": {},
   "source": [
    "## Generate Attacks\n",
    "(for attacks that have not been generated and saved locally)"
   ]
  },
  {
   "attachments": {},
   "cell_type": "markdown",
   "metadata": {},
   "source": [
    "### MIM (using cleverhans)"
   ]
  },
  {
   "cell_type": "code",
   "execution_count": null,
   "metadata": {
    "vscode": {
     "languageId": "python"
    }
   },
   "outputs": [],
   "source": [
    "from cleverhans.tf2.attacks.momentum_iterative_method import momentum_iterative_method\n",
    "import tensorflow.compat.v1 as tf\n",
    "\n",
    "tf.disable_v2_behavior()\n",
    "\n",
    "# Define the input placeholder\n",
    "x_0 = tf.convert_to_tensor(np.array([train_images[0]]), dtype='float32')\n",
    "y_0 = tf.convert_to_tensor(np.array(train_labels[0]), dtype='float32')\n",
    "\n",
    "# Define the logits of the model\n",
    "logits_model = tf.keras.Model(model.input,model.layers[-1].output)\n",
    "\n",
    "\n",
    "# Define the attack parameters\n",
    "eps = 0.5\n",
    "eps_iter = 0.01\n",
    "nb_iter = 40\n",
    "clip_min = 0.0\n",
    "clip_max = 1.0\n",
    "\n",
    "# Generate adversarial examples\n",
    "adv_x = momentum_iterative_method(logits_model, x = x_0, eps = eps, nb_iter = nb_iter, clip_min=clip_min, clip_max=clip_max, sanity_checks=False)"
   ]
  },
  {
   "cell_type": "code",
   "execution_count": 32,
   "metadata": {
    "vscode": {
     "languageId": "python"
    }
   },
   "outputs": [
    {
     "data": {
      "image/png": "[encoded data removed]",
      "text/plain": [
       "<Figure size 432x288 with 1 Axes>"
      ]
     },
     "metadata": {
      "needs_background": "light"
     },
     "output_type": "display_data"
    },
    {
     "data": {
      "text/plain": [
       "5.0"
      ]
     },
     "execution_count": 32,
     "metadata": {},
     "output_type": "execute_result"
    }
   ],
   "source": [
    "adv_x_image = tf.keras.backend.get_value(adv_x)\n",
    "adv_x_image = np.reshape(adv_x_image, (28, 28, 1))\n",
    "\n",
    "plt.imshow(adv_x_image, cmap='gray')\n",
    "plt.show()\n",
    "tf.keras.backend.get_value(y_0)"
   ]
  },
  {
   "cell_type": "code",
   "execution_count": 36,
   "metadata": {
    "vscode": {
     "languageId": "python"
    }
   },
   "outputs": [],
   "source": [
    "preds_adv_2 = model_adv(adv_x)\n",
    "tf.keras.backend.get_value(tf.argmax(preds_adv_2, axis=-1))[0]"
   ]
  },
  {
   "cell_type": "code",
   "execution_count": 38,
   "metadata": {
    "vscode": {
     "languageId": "python"
    }
   },
   "outputs": [
    {
     "name": "stdout",
     "output_type": "stream",
     "text": [
      "[[ 0  1  2  3  4  5  6  7  8  9]\n",
      " [ 8 14  8 11 14  7 10 15  2 11]]\n"
     ]
    }
   ],
   "source": [
    "test_images_gen = test_images[:100]\n",
    "test_labels_gen = test_labels[:100]\n",
    "unique, counts = np.unique(test_labels_gen, return_counts=True)\n",
    "print(np.asarray((unique, counts)))"
   ]
  },
  {
   "cell_type": "code",
   "execution_count": 40,
   "metadata": {
    "vscode": {
     "languageId": "python"
    }
   },
   "outputs": [
    {
     "name": "stdout",
     "output_type": "stream",
     "text": [
      "(100, 28, 28)\n",
      "0.1\n",
      "0.2\n",
      "0.30000000000000004\n",
      "0.4\n"
     ]
    }
   ],
   "source": [
    "# calculate error rate for FGSM attack on both clean and adv model with varying epsilon values\n",
    "\n",
    "# iterate from 0.1 to 1.5 with 0.1 step size\n",
    "epsilon_values = np.arange(0.1, 0.4, 0.1)\n",
    "mim_images = []\n",
    "mim_labels = []\n",
    "\n",
    "print(test_images_gen.shape)\n",
    "\n",
    "for index, epsilon in enumerate(epsilon_values):\n",
    "    print(epsilon)\n",
    "\n",
    "    # original image and original label\n",
    "\n",
    "    for i in range(test_images_gen.shape[0]): \n",
    "        original_image = test_images_gen[i]\n",
    "        original_image = tf.convert_to_tensor(original_image.reshape((1,28,28)), dtype='float32') #The .reshape just gives it the proper form to input into the model, a batch of 1 a.k.a a tensor\n",
    "\n",
    "        original_label = test_labels_gen[i]\n",
    "        original_label = np.reshape(original_label, (1,)).astype('float32') # Give label proper shape and type for cleverhans\n",
    "\n",
    "        \n",
    "        # perform spsa on train_images\n",
    "        adv_example = momentum_iterative_method(logits_model, x = original_image, eps = epsilon, nb_iter = 10, clip_min=0.0, clip_max=1.0, sanity_checks=False)\n",
    "        adv_example = tf.keras.backend.get_value(adv_example)\n",
    "        \n",
    "        # add fgsm image to list\n",
    "        mim_images.append(adv_example)\n",
    "        mim_labels.append(original_label)\n",
    "\n",
    "np.savez('mim_images_zico', images=mim_images, labels=mim_labels)"
   ]
  },
  {
   "attachments": {},
   "cell_type": "markdown",
   "metadata": {},
   "source": [
    "### PGD (ε ≃ 0.7) "
   ]
  },
  {
   "attachments": {},
   "cell_type": "markdown",
   "metadata": {},
   "source": [
    "### Carlini Wagner"
   ]
  },
  {
   "cell_type": "code",
   "execution_count": 34,
   "metadata": {
    "vscode": {
     "languageId": "python"
    }
   },
   "outputs": [],
   "source": [
    "from cleverhans.tf2.attacks.carlini_wagner_l2 import carlini_wagner_l2\n",
    "import tensorflow.compat.v1 as tf\n",
    "\n",
    "# tf.enable_eager_execution()\n",
    "\n",
    "# Define the input placeholder\n",
    "x_0 = tf.convert_to_tensor(np.array([train_images[0]]), dtype='float32')\n",
    "y_0 = tf.convert_to_tensor(np.array(train_labels[0]), dtype='float32')\n",
    "\n",
    "# Define the logits of the model\n",
    "logits_model = tf.keras.Model(model.input,model.layers[-1].output)\n",
    "\n",
    "# Generate adversarial examples\n",
    "adv_x = carlini_wagner_l2(logits_model, x = x_0, learning_rate=0.1, max_iterations=100, initial_const=0, binary_search_steps=50, confidence=20)"
   ]
  },
  {
   "cell_type": "code",
   "execution_count": 35,
   "metadata": {
    "vscode": {
     "languageId": "python"
    }
   },
   "outputs": [
    {
     "data": {
      "image/png": "[encoded data removed]",
      "text/plain": [
       "<Figure size 432x288 with 1 Axes>"
      ]
     },
     "metadata": {
      "needs_background": "light"
     },
     "output_type": "display_data"
    },
    {
     "data": {
      "text/plain": [
       "5.0"
      ]
     },
     "execution_count": 35,
     "metadata": {},
     "output_type": "execute_result"
    }
   ],
   "source": [
    "adv_x_image = tf.keras.backend.get_value(adv_x)\n",
    "adv_x_image = np.reshape(adv_x_image, (28, 28, 1))\n",
    "\n",
    "plt.imshow(adv_x_image, cmap='gray')\n",
    "plt.show()\n",
    "tf.keras.backend.get_value(y_0)"
   ]
  },
  {
   "cell_type": "code",
   "execution_count": 40,
   "metadata": {
    "vscode": {
     "languageId": "python"
    }
   },
   "outputs": [
    {
     "data": {
      "text/plain": [
       "5"
      ]
     },
     "execution_count": 40,
     "metadata": {},
     "output_type": "execute_result"
    }
   ],
   "source": [
    "preds_adv_2 = model(adv_x)\n",
    "tf.keras.backend.get_value(tf.argmax(preds_adv_2, axis=-1))[0]"
   ]
  },
  {
   "attachments": {},
   "cell_type": "markdown",
   "metadata": {},
   "source": [
    "## Test attack on Models"
   ]
  },
  {
   "attachments": {},
   "cell_type": "markdown",
   "metadata": {},
   "source": [
    "### Test on FGSM"
   ]
  },
  {
   "cell_type": "code",
   "execution_count": 12,
   "metadata": {
    "vscode": {
     "languageId": "python"
    }
   },
   "outputs": [
    {
     "name": "stdout",
     "output_type": "stream",
     "text": [
      "model accuracy: 0.153\n",
      "model_madry accuracy: 0.974\n",
      "model_adv accuracy: 0.984\n",
      "model_adv_v2 accuracy: 0.977\n",
      "model_adv_v3 accuracy: 0.986\n",
      "model_adv_v3_2 accuracy: 0.871\n",
      "model_adv_v4 accuracy: 0.985\n",
      "model_adv_v5 accuracy: 0.985\n",
      "model_adv_v6 accuracy: 0.984\n"
     ]
    }
   ],
   "source": [
    "print('model accuracy: %.3f' % model.evaluate(fgsm_images_zico, fgsm_labels_zico, verbose=0)[1])\n",
    "print('model_madry accuracy: %.3f' % model_madry.evaluate(fgsm_images_zico, fgsm_labels_zico, verbose=0)[1])\n",
    "print('model_adv accuracy: %.3f' % model_adv.evaluate(fgsm_images_zico, fgsm_labels_zico, verbose=0)[1])\n",
    "print('model_adv_v2 accuracy: %.3f' % model_adv_v2.evaluate(fgsm_images_zico, fgsm_labels_zico, verbose=0)[1])\n",
    "print('model_adv_v3 accuracy: %.3f' % model_adv_v3.evaluate(fgsm_images_zico, fgsm_labels_zico, verbose=0)[1])\n",
    "print('model_adv_v3_2 accuracy: %.3f' % model_adv_v3_2.evaluate(fgsm_images_zico, fgsm_labels_zico, verbose=0)[1])\n",
    "print('model_adv_v4 accuracy: %.3f' % model_adv_v4.evaluate(fgsm_images_zico, fgsm_labels_zico, verbose=0)[1])\n",
    "print('model_adv_v5 accuracy: %.3f' % model_adv_v5.evaluate(fgsm_images_zico, fgsm_labels_zico, verbose=0)[1])\n",
    "print('model_adv_v6 accuracy: %.3f' % model_adv_v6.evaluate(fgsm_images_zico, fgsm_labels_zico, verbose=0)[1])"
   ]
  },
  {
   "cell_type": "code",
   "execution_count": 36,
   "metadata": {
    "vscode": {
     "languageId": "python"
    }
   },
   "outputs": [
    {
     "name": "stdout",
     "output_type": "stream",
     "text": [
      "Model z: 0.101\n",
      "Model z0: 0.101\n",
      "Model z2: 0.101\n",
      "Model z3: 0.984\n",
      "Model z4: 0.101\n",
      "Model z5: 0.113\n",
      "Model z6: 0.983\n",
      "Model z7: 0.101\n"
     ]
    }
   ],
   "source": [
    "for key in adv_models_mu:\n",
    "    print(\"Model %s: %.3f\" % (key, adv_models_mu[key].evaluate(fgsm_images_zico, fgsm_labels_zico_onehot, verbose=0)[1]))"
   ]
  },
  {
   "attachments": {},
   "cell_type": "markdown",
   "metadata": {},
   "source": [
    "#### With Albumentation Transformations"
   ]
  },
  {
   "cell_type": "code",
   "execution_count": 70,
   "metadata": {
    "vscode": {
     "languageId": "python"
    }
   },
   "outputs": [
    {
     "name": "stdout",
     "output_type": "stream",
     "text": [
      "Model model: 0.797\n",
      "Model z: 0.966\n",
      "Model z0: 0.964\n",
      "Model z2: 0.969\n",
      "Model z3: 0.967\n",
      "Model z4: 0.967\n",
      "Model z5: 0.966\n",
      "Model z6: 0.963\n",
      "Model z7: 0.966\n"
     ]
    }
   ],
   "source": [
    "for key in adv_models_mu_transform:\n",
    "    print(\"Model %s: %.3f\" % (key, adv_models_mu_transform[key].evaluate(fgsm_images_zico, fgsm_labels_zico_onehot, verbose=0)[1]))"
   ]
  },
  {
   "attachments": {},
   "cell_type": "markdown",
   "metadata": {},
   "source": [
    "### Test on PGD"
   ]
  },
  {
   "cell_type": "code",
   "execution_count": 13,
   "metadata": {
    "vscode": {
     "languageId": "python"
    }
   },
   "outputs": [
    {
     "name": "stdout",
     "output_type": "stream",
     "text": [
      "model accuracy: 0.220\n",
      "model_madry accuracy: 0.985\n",
      "model_adv accuracy: 0.988\n",
      "model_adv_v2 accuracy: 0.985\n",
      "model_adv_v3 accuracy: 0.988\n",
      "model_adv_v3_2 accuracy: 0.985\n",
      "model_adv_v4 accuracy: 0.988\n",
      "model_adv_v5 accuracy: 0.987\n",
      "model_adv_v6 accuracy: 0.986\n"
     ]
    }
   ],
   "source": [
    "print('model accuracy: %.3f' % model.evaluate(pgd_images_zico, pgd_labels_zico, verbose=0)[1])\n",
    "print('model_madry accuracy: %.3f' % model_madry.evaluate(pgd_images_zico, pgd_labels_zico, verbose=0)[1])\n",
    "print('model_adv accuracy: %.3f' % model_adv.evaluate(pgd_images_zico, pgd_labels_zico, verbose=0)[1])\n",
    "print('model_adv_v2 accuracy: %.3f' % model_adv_v2.evaluate(pgd_images_zico, pgd_labels_zico, verbose=0)[1])\n",
    "print('model_adv_v3 accuracy: %.3f' % model_adv_v3.evaluate(pgd_images_zico, pgd_labels_zico, verbose=0)[1])\n",
    "print('model_adv_v3_2 accuracy: %.3f' % model_adv_v3_2.evaluate(pgd_images_zico, pgd_labels_zico, verbose=0)[1])\n",
    "print('model_adv_v4 accuracy: %.3f' % model_adv_v4.evaluate(pgd_images_zico, pgd_labels_zico, verbose=0)[1])\n",
    "print('model_adv_v5 accuracy: %.3f' % model_adv_v5.evaluate(pgd_images_zico, pgd_labels_zico, verbose=0)[1])\n",
    "print('model_adv_v6 accuracy: %.3f' % model_adv_v6.evaluate(pgd_images_zico, pgd_labels_zico, verbose=0)[1])"
   ]
  },
  {
   "cell_type": "code",
   "execution_count": 37,
   "metadata": {
    "vscode": {
     "languageId": "python"
    }
   },
   "outputs": [
    {
     "name": "stdout",
     "output_type": "stream",
     "text": [
      "Model z: 0.101\n",
      "Model z0: 0.101\n",
      "Model z2: 0.101\n",
      "Model z3: 0.988\n",
      "Model z4: 0.101\n",
      "Model z5: 0.113\n",
      "Model z6: 0.988\n",
      "Model z7: 0.101\n"
     ]
    }
   ],
   "source": [
    "for key in adv_models_mu:\n",
    "    print(\"Model %s: %.3f\" % (key, adv_models_mu[key].evaluate(pgd_images_zico, pgd_labels_zico_onehot, verbose=0)[1]))"
   ]
  },
  {
   "attachments": {},
   "cell_type": "markdown",
   "metadata": {},
   "source": [
    "#### With Albumentation Transformations"
   ]
  },
  {
   "cell_type": "code",
   "execution_count": 72,
   "metadata": {
    "vscode": {
     "languageId": "python"
    }
   },
   "outputs": [
    {
     "name": "stdout",
     "output_type": "stream",
     "text": [
      "Model model: 0.911\n",
      "Model z: 0.971\n",
      "Model z0: 0.971\n",
      "Model z2: 0.974\n",
      "Model z3: 0.972\n",
      "Model z4: 0.971\n",
      "Model z5: 0.973\n",
      "Model z6: 0.971\n",
      "Model z7: 0.970\n"
     ]
    }
   ],
   "source": [
    "for key in adv_models_mu_transform:\n",
    "    print(\"Model %s: %.3f\" % (key, adv_models_mu_transform[key].evaluate(pgd_images_zico, pgd_labels_zico_onehot, verbose=0)[1]))"
   ]
  },
  {
   "attachments": {},
   "cell_type": "markdown",
   "metadata": {},
   "source": [
    "### Test on SPSA"
   ]
  },
  {
   "cell_type": "code",
   "execution_count": 19,
   "metadata": {
    "vscode": {
     "languageId": "python"
    }
   },
   "outputs": [
    {
     "name": "stdout",
     "output_type": "stream",
     "text": [
      "model accuracy: 0.377\n",
      "model_madry accuracy: 0.965\n",
      "model_adv accuracy: 0.980\n",
      "model_adv_v2 accuracy: 0.983\n",
      "model_adv_v3 accuracy: 0.980\n",
      "model_adv_v3_2 accuracy: 0.947\n",
      "model_adv_v4 accuracy: 0.985\n",
      "model_adv_v5 accuracy: 0.983\n",
      "model_adv_v6 accuracy: 0.980\n"
     ]
    }
   ],
   "source": [
    "print('model accuracy: %.3f' % model.evaluate(spsa_images_zico, spsa_labels_zico, verbose=0)[1])\n",
    "print('model_madry accuracy: %.3f' % model_madry.evaluate(spsa_images_zico, spsa_labels_zico, verbose=0)[1])\n",
    "print('model_adv accuracy: %.3f' % model_adv.evaluate(spsa_images_zico, spsa_labels_zico, verbose=0)[1])\n",
    "print('model_adv_v2 accuracy: %.3f' % model_adv_v2.evaluate(spsa_images_zico, spsa_labels_zico, verbose=0)[1])\n",
    "print('model_adv_v3 accuracy: %.3f' % model_adv_v3.evaluate(spsa_images_zico, spsa_labels_zico, verbose=0)[1])\n",
    "print('model_adv_v3_2 accuracy: %.3f' % model_adv_v3_2.evaluate(spsa_images_zico, spsa_labels_zico, verbose=0)[1])\n",
    "print('model_adv_v4 accuracy: %.3f' % model_adv_v4.evaluate(spsa_images_zico, spsa_labels_zico, verbose=0)[1])\n",
    "print('model_adv_v5 accuracy: %.3f' % model_adv_v5.evaluate(spsa_images_zico, spsa_labels_zico, verbose=0)[1])\n",
    "print('model_adv_v6 accuracy: %.3f' % model_adv_v6.evaluate(spsa_images_zico, spsa_labels_zico, verbose=0)[1])"
   ]
  },
  {
   "cell_type": "code",
   "execution_count": 38,
   "metadata": {
    "vscode": {
     "languageId": "python"
    }
   },
   "outputs": [
    {
     "name": "stdout",
     "output_type": "stream",
     "text": [
      "Model z: 0.110\n",
      "Model z0: 0.110\n",
      "Model z2: 0.110\n",
      "Model z3: 0.993\n",
      "Model z4: 0.110\n",
      "Model z5: 0.140\n",
      "Model z6: 0.998\n",
      "Model z7: 0.110\n"
     ]
    }
   ],
   "source": [
    "for key in adv_models_mu:\n",
    "    print(\"Model %s: %.3f\" % (key, adv_models_mu[key].evaluate(spsa_images_zico, spsa_labels_zico_onehot, verbose=0)[1]))"
   ]
  },
  {
   "attachments": {},
   "cell_type": "markdown",
   "metadata": {},
   "source": [
    "#### With Albumentation Transformations"
   ]
  },
  {
   "cell_type": "code",
   "execution_count": 74,
   "metadata": {
    "vscode": {
     "languageId": "python"
    }
   },
   "outputs": [
    {
     "name": "stdout",
     "output_type": "stream",
     "text": [
      "Model model: 0.505\n",
      "Model z: 0.952\n",
      "Model z0: 0.980\n",
      "Model z2: 0.978\n",
      "Model z3: 0.952\n",
      "Model z4: 0.955\n",
      "Model z5: 0.978\n",
      "Model z6: 0.967\n",
      "Model z7: 0.955\n"
     ]
    }
   ],
   "source": [
    "for key in adv_models_mu_transform:\n",
    "    print(\"Model %s: %.3f\" % (key, adv_models_mu_transform[key].evaluate(spsa_images_zico, spsa_labels_zico_onehot, verbose=0)[1]))"
   ]
  },
  {
   "attachments": {},
   "cell_type": "markdown",
   "metadata": {},
   "source": [
    "### Test on MIM"
   ]
  },
  {
   "cell_type": "code",
   "execution_count": 24,
   "metadata": {
    "vscode": {
     "languageId": "python"
    }
   },
   "outputs": [
    {
     "name": "stdout",
     "output_type": "stream",
     "text": [
      "model accuracy: 0.157\n",
      "model_madry accuracy: 0.935\n",
      "model_adv accuracy: 0.947\n",
      "model_adv_v2 accuracy: 0.848\n",
      "model_adv_v3 accuracy: 0.925\n",
      "model_adv_v3_2 accuracy: 0.892\n",
      "model_adv_v4 accuracy: 0.925\n",
      "model_adv_v5 accuracy: 0.938\n",
      "model_adv_v6 accuracy: 0.940\n"
     ]
    }
   ],
   "source": [
    "print('model accuracy: %.3f' % model.evaluate(mim_images, mim_labels, verbose=0)[1])\n",
    "print('model_madry accuracy: %.3f' % model_madry.evaluate(mim_images, mim_labels, verbose=0)[1])\n",
    "print('model_adv accuracy: %.3f' % model_adv.evaluate(mim_images, mim_labels, verbose=0)[1])\n",
    "print('model_adv_v2 accuracy: %.3f' % model_adv_v2.evaluate(mim_images, mim_labels, verbose=0)[1])\n",
    "print('model_adv_v3 accuracy: %.3f' % model_adv_v3.evaluate(mim_images, mim_labels, verbose=0)[1])\n",
    "print('model_adv_v3_2 accuracy: %.3f' % model_adv_v3_2.evaluate(mim_images, mim_labels, verbose=0)[1])\n",
    "print('model_adv_v4 accuracy: %.3f' % model_adv_v4.evaluate(mim_images, mim_labels, verbose=0)[1])\n",
    "print('model_adv_v5 accuracy: %.3f' % model_adv_v5.evaluate(mim_images, mim_labels, verbose=0)[1])\n",
    "print('model_adv_v6 accuracy: %.3f' % model_adv_v6.evaluate(mim_images, mim_labels, verbose=0)[1])\n",
    "# print('model_final accuracy: %.3f' % model_final.evaluate(mim_images, mim_labels, verbose=0)[1])"
   ]
  },
  {
   "cell_type": "code",
   "execution_count": 39,
   "metadata": {
    "vscode": {
     "languageId": "python"
    }
   },
   "outputs": [
    {
     "name": "stdout",
     "output_type": "stream",
     "text": [
      "Model z: 0.110\n",
      "Model z0: 0.110\n",
      "Model z2: 0.110\n",
      "Model z3: 0.942\n",
      "Model z4: 0.110\n",
      "Model z5: 0.140\n",
      "Model z6: 0.955\n",
      "Model z7: 0.110\n"
     ]
    }
   ],
   "source": [
    "for key in adv_models_mu:\n",
    "    print(\"Model %s: %.3f\" % (key, adv_models_mu[key].evaluate(mim_images, mim_labels_onehot, verbose=0)[1]))"
   ]
  },
  {
   "attachments": {},
   "cell_type": "markdown",
   "metadata": {},
   "source": [
    "#### With Albumentation Transformations"
   ]
  },
  {
   "cell_type": "code",
   "execution_count": 76,
   "metadata": {
    "vscode": {
     "languageId": "python"
    }
   },
   "outputs": [
    {
     "name": "stdout",
     "output_type": "stream",
     "text": [
      "Model model: 0.377\n",
      "Model z: 0.940\n",
      "Model z0: 0.965\n",
      "Model z2: 0.960\n",
      "Model z3: 0.935\n",
      "Model z4: 0.947\n",
      "Model z5: 0.967\n",
      "Model z6: 0.965\n",
      "Model z7: 0.952\n"
     ]
    }
   ],
   "source": [
    "for key in adv_models_mu_transform:\n",
    "    print(\"Model %s: %.3f\" % (key, adv_models_mu_transform[key].evaluate(mim_images, mim_labels_onehot, verbose=0)[1]))"
   ]
  },
  {
   "attachments": {},
   "cell_type": "markdown",
   "metadata": {},
   "source": [
    "### Test on BIM"
   ]
  },
  {
   "cell_type": "code",
   "execution_count": 100,
   "metadata": {
    "vscode": {
     "languageId": "python"
    }
   },
   "outputs": [
    {
     "name": "stdout",
     "output_type": "stream",
     "text": [
      "model accuracy: 0.980\n",
      "model_madry accuracy: 0.717\n",
      "model_adv accuracy: 0.986\n",
      "model_adv_v2 accuracy: 0.979\n",
      "model_adv_v3 accuracy: 0.985\n",
      "model_adv_v3_2 accuracy: 0.758\n",
      "model_adv_v4 accuracy: 0.985\n",
      "model_adv_v5 accuracy: 0.989\n",
      "model_adv_v6 accuracy: 0.984\n",
      "model_final accuracy: 0.985\n"
     ]
    }
   ],
   "source": [
    "print('model accuracy: %.3f' % model.evaluate(bim_images, bim_labels, verbose=0)[1])\n",
    "print('model_madry accuracy: %.3f' % model_madry.evaluate(bim_images, bim_labels, verbose=0)[1])\n",
    "print('model_adv accuracy: %.3f' % model_adv.evaluate(bim_images, bim_labels, verbose=0)[1])\n",
    "print('model_adv_v2 accuracy: %.3f' % model_adv_v2.evaluate(bim_images, bim_labels, verbose=0)[1])\n",
    "print('model_adv_v3 accuracy: %.3f' % model_adv_v3.evaluate(bim_images, bim_labels, verbose=0)[1])\n",
    "print('model_adv_v3_2 accuracy: %.3f' % model_adv_v3_2.evaluate(bim_images, bim_labels, verbose=0)[1])\n",
    "print('model_adv_v4 accuracy: %.3f' % model_adv_v4.evaluate(bim_images, bim_labels, verbose=0)[1])\n",
    "print('model_adv_v5 accuracy: %.3f' % model_adv_v5.evaluate(bim_images, bim_labels, verbose=0)[1])\n",
    "print('model_adv_v6 accuracy: %.3f' % model_adv_v6.evaluate(bim_images, bim_labels, verbose=0)[1])\n",
    "# print('model_final accuracy: %.3f' % model_final.evaluate(bim_images, bim_labels, verbose=0)[1])"
   ]
  },
  {
   "cell_type": "code",
   "execution_count": 40,
   "metadata": {
    "vscode": {
     "languageId": "python"
    }
   },
   "outputs": [
    {
     "name": "stdout",
     "output_type": "stream",
     "text": [
      "Model z: 0.101\n",
      "Model z0: 0.101\n",
      "Model z2: 0.101\n",
      "Model z3: 0.988\n",
      "Model z4: 0.101\n",
      "Model z5: 0.113\n",
      "Model z6: 0.985\n",
      "Model z7: 0.101\n"
     ]
    }
   ],
   "source": [
    "for key in adv_models_mu:\n",
    "    print(\"Model %s: %.3f\" % (key, adv_models_mu[key].evaluate(bim_images, bim_labels_onehot, verbose=0)[1]))"
   ]
  },
  {
   "attachments": {},
   "cell_type": "markdown",
   "metadata": {},
   "source": [
    "#### With Albumentation Transformations"
   ]
  },
  {
   "cell_type": "code",
   "execution_count": 78,
   "metadata": {
    "vscode": {
     "languageId": "python"
    }
   },
   "outputs": [
    {
     "name": "stdout",
     "output_type": "stream",
     "text": [
      "Model model: 0.371\n",
      "Model z: 0.941\n",
      "Model z0: 0.943\n",
      "Model z2: 0.951\n",
      "Model z3: 0.950\n",
      "Model z4: 0.952\n",
      "Model z5: 0.938\n",
      "Model z6: 0.964\n",
      "Model z7: 0.954\n"
     ]
    }
   ],
   "source": [
    "for key in adv_models_mu_transform:\n",
    "    print(\"Model %s: %.3f\" % (key, adv_models_mu_transform[key].evaluate(bim_images, bim_labels_onehot, verbose=0)[1]))"
   ]
  },
  {
   "attachments": {},
   "cell_type": "markdown",
   "metadata": {},
   "source": [
    "### Test on Unrestrcited Attack"
   ]
  },
  {
   "attachments": {},
   "cell_type": "markdown",
   "metadata": {},
   "source": [
    "## Final Training on Multiple version images"
   ]
  },
  {
   "cell_type": "code",
   "execution_count": 90,
   "metadata": {
    "vscode": {
     "languageId": "python"
    }
   },
   "outputs": [
    {
     "name": "stdout",
     "output_type": "stream",
     "text": [
      "\u001b[1mDownloading and preparing dataset 11.06 MiB (download: 11.06 MiB, generated: 21.00 MiB, total: 32.06 MiB) to /root/tensorflow_datasets/mnist/3.0.1...\u001b[0m\n"
     ]
    },
    {
     "data": {
      "application/vnd.jupyter.widget-view+json": {
       "model_id": "dc9cbd16962e41f69b3e5465ff3afa80",
       "version_major": 2,
       "version_minor": 0
      },
      "text/plain": [
       "Dl Completed...:   0%|          | 0/5 [00:00<?, ? file/s]"
      ]
     },
     "metadata": {},
     "output_type": "display_data"
    },
    {
     "name": "stdout",
     "output_type": "stream",
     "text": [
      "\u001b[1mDataset mnist downloaded and prepared to /root/tensorflow_datasets/mnist/3.0.1. Subsequent calls will reuse this data.\u001b[0m\n"
     ]
    }
   ],
   "source": [
    "(ds_train, ds_test), ds_info = tfds.load(\n",
    "    'mnist',\n",
    "    split=['train', 'test'],\n",
    "    shuffle_files=True,\n",
    "    as_supervised=True,\n",
    "    with_info=True,\n",
    ")"
   ]
  },
  {
   "cell_type": "code",
   "execution_count": 91,
   "metadata": {
    "vscode": {
     "languageId": "python"
    }
   },
   "outputs": [],
   "source": [
    "def normalize_img(image, label):\n",
    "  \"\"\"Normalizes images: `uint8` -> `float32`.\"\"\"\n",
    "  return tf.cast(image, tf.float32) / 255., label\n",
    "\n",
    "ds_train = ds_train.map(\n",
    "    normalize_img, num_parallel_calls=tf.data.AUTOTUNE)\n",
    "ds_train = ds_train.cache()\n",
    "ds_train = ds_train.shuffle(ds_info.splits['train'].num_examples)\n",
    "ds_train = ds_train.batch(128)\n",
    "ds_train = ds_train.prefetch(tf.data.AUTOTUNE)"
   ]
  },
  {
   "cell_type": "code",
   "execution_count": 92,
   "metadata": {
    "vscode": {
     "languageId": "python"
    }
   },
   "outputs": [],
   "source": [
    "ds_test = ds_test.map(\n",
    "    normalize_img, num_parallel_calls=tf.data.AUTOTUNE)\n",
    "ds_test = ds_test.batch(128)\n",
    "ds_test = ds_test.cache()\n",
    "ds_test = ds_test.prefetch(tf.data.AUTOTUNE)"
   ]
  },
  {
   "cell_type": "code",
   "execution_count": 93,
   "metadata": {
    "vscode": {
     "languageId": "python"
    }
   },
   "outputs": [],
   "source": [
    "# load mnist dataset\n",
    "ds_train_images = []\n",
    "ds_train_labels = []\n",
    "\n",
    "for images, labels in ds_train.unbatch():\n",
    "  ds_train_images.append(images)\n",
    "  ds_train_labels.append(labels)\n",
    "\n",
    "ds_train_images = np.array(ds_train_images)\n",
    "ds_train_labels = np.array(ds_train_labels)"
   ]
  },
  {
   "cell_type": "code",
   "execution_count": 94,
   "metadata": {
    "vscode": {
     "languageId": "python"
    }
   },
   "outputs": [],
   "source": [
    "# load mnist dataset\n",
    "ds_test_images = []\n",
    "ds_test_labels = []\n",
    "\n",
    "for images, labels in ds_test.unbatch():\n",
    "  ds_test_images.append(images)\n",
    "  ds_test_labels.append(labels)\n",
    "\n",
    "ds_test_images = np.array(ds_test_images)\n",
    "ds_test_labels = np.array(ds_test_labels)"
   ]
  },
  {
   "cell_type": "code",
   "execution_count": 95,
   "metadata": {
    "vscode": {
     "languageId": "python"
    }
   },
   "outputs": [
    {
     "data": {
      "image/png": "[encoded data removed]",
      "text/plain": [
       "<Figure size 432x288 with 1 Axes>"
      ]
     },
     "metadata": {
      "needs_background": "light"
     },
     "output_type": "display_data"
    },
    {
     "name": "stdout",
     "output_type": "stream",
     "text": [
      "(127917, 28, 28, 1)\n",
      "(127917,)\n"
     ]
    }
   ],
   "source": [
    "# load mnist_adv dataset\n",
    "# adv_path = 'assets/data/mnist_adv/'\n",
    "adv_paths = ['research/mnist_zico_defense_by_attack_with_z0/', 'research/mnist_zico_defense_by_attack_with_z3/', 'research/mnist_zico_defense_by_attack_with_z5/', 'research/mnist_zico_defense_by_attack_with_z6/']\n",
    "adv_files = []\n",
    "X = []\n",
    "y = []\n",
    "\n",
    "# for loop to load all the images\n",
    "for path in adv_paths: \n",
    "  for source in range(10):\n",
    "      for target in range(10):\n",
    "          if(source != target):\n",
    "            file = np.load(path + 'from' + str(source) + 'to' + str(target) + '.npz')\n",
    "            adv_files.append(file)\n",
    "            y.extend(np.full(len(file['adv_imgs']), source).tolist())\n",
    "\n",
    "keys = adv_files[0].files\n",
    "\n",
    "for file in adv_files:\n",
    "  with file as data:\n",
    "      X.extend(data[keys[0]])\n",
    "\n",
    "X = np.array(X)\n",
    "y = np.array(y)\n",
    "y_one_hot = np.take(np.eye(10), y, axis=0)\n",
    "\n",
    "plt.imshow(X[0], cmap='gray')\n",
    "plt.show()\n",
    "print(X.shape)\n",
    "print(y.shape)"
   ]
  },
  {
   "cell_type": "code",
   "execution_count": 96,
   "metadata": {
    "vscode": {
     "languageId": "python"
    }
   },
   "outputs": [],
   "source": [
    "# split X into 70-30 train-test\n",
    "from sklearn.model_selection import train_test_split\n",
    "\n",
    "X_train, X_test, y_train, y_test = train_test_split(X, y, test_size=0.3, random_state=42)"
   ]
  },
  {
   "cell_type": "code",
   "execution_count": 97,
   "metadata": {
    "vscode": {
     "languageId": "python"
    }
   },
   "outputs": [
    {
     "name": "stdout",
     "output_type": "stream",
     "text": [
      "(89541, 28, 28, 1) (60000, 28, 28, 1)\n",
      "(149541, 28, 28, 1) (149541,)\n"
     ]
    }
   ],
   "source": [
    "print(X_train.shape, ds_train_images.shape)\n",
    "\n",
    "ds_train_adv_images = np.concatenate((ds_train_images, X_train), axis=0)\n",
    "ds_train_adv_labels = np.concatenate((ds_train_labels, y_train), axis=0)\n",
    "\n",
    "print(ds_train_adv_images.shape, ds_train_adv_labels.shape)"
   ]
  },
  {
   "cell_type": "code",
   "execution_count": 98,
   "metadata": {
    "vscode": {
     "languageId": "python"
    }
   },
   "outputs": [
    {
     "name": "stdout",
     "output_type": "stream",
     "text": [
      "(38376, 28, 28, 1) (10000, 28, 28, 1)\n",
      "(48376, 28, 28, 1) (48376,)\n"
     ]
    }
   ],
   "source": [
    "print(X_test.shape, ds_test_images.shape)\n",
    "\n",
    "ds_test_adv_images = np.concatenate((ds_test_images, X_test), axis=0)\n",
    "ds_test_adv_labels = np.concatenate((ds_test_labels, y_test), axis=0)\n",
    "\n",
    "print(ds_test_adv_images.shape, ds_test_adv_labels.shape)\n"
   ]
  },
  {
   "cell_type": "code",
   "execution_count": 99,
   "metadata": {
    "vscode": {
     "languageId": "python"
    }
   },
   "outputs": [
    {
     "name": "stdout",
     "output_type": "stream",
     "text": [
      "Epoch 1/10\n",
      "4674/4674 [==============================] - 23s 5ms/step - loss: 0.0679 - accuracy: 0.9807\n",
      "Epoch 2/10\n",
      "4674/4674 [==============================] - 23s 5ms/step - loss: 0.0248 - accuracy: 0.9935\n",
      "Epoch 3/10\n",
      "4674/4674 [==============================] - 22s 5ms/step - loss: 0.0162 - accuracy: 0.9955\n",
      "Epoch 4/10\n",
      "4674/4674 [==============================] - 23s 5ms/step - loss: 0.0115 - accuracy: 0.9967\n",
      "Epoch 5/10\n",
      "4674/4674 [==============================] - 22s 5ms/step - loss: 0.0082 - accuracy: 0.9976\n",
      "Epoch 6/10\n",
      "4674/4674 [==============================] - 23s 5ms/step - loss: 0.0060 - accuracy: 0.9982\n",
      "Epoch 7/10\n",
      "4674/4674 [==============================] - 23s 5ms/step - loss: 0.0056 - accuracy: 0.9983\n",
      "Epoch 8/10\n",
      "4674/4674 [==============================] - 22s 5ms/step - loss: 0.0045 - accuracy: 0.9985\n",
      "Epoch 9/10\n",
      "4674/4674 [==============================] - 23s 5ms/step - loss: 0.0039 - accuracy: 0.9987\n",
      "Epoch 10/10\n",
      "4674/4674 [==============================] - 23s 5ms/step - loss: 0.0038 - accuracy: 0.9988\n",
      "1512/1512 [==============================] - 5s 3ms/step - loss: 0.0215 - accuracy: 0.9959\n"
     ]
    },
    {
     "data": {
      "text/plain": [
       "[0.021485043689608574, 0.9958657026290894]"
      ]
     },
     "execution_count": 99,
     "metadata": {},
     "output_type": "execute_result"
    }
   ],
   "source": [
    "# sequential model with conv2d 16, padding valid, relu -> conv2d 32, padding valid, relu -> softmax\n",
    "model_final = tf.keras.Sequential([\n",
    "    tf.keras.layers.Conv2D(16, kernel_size=4, padding='valid', activation='relu', input_shape=(28, 28, 1)),\n",
    "    tf.keras.layers.Conv2D(32, kernel_size=4, padding='valid', activation='relu'),\n",
    "    tf.keras.layers.Flatten(),\n",
    "    tf.keras.layers.Dense(10, activation='softmax')\n",
    "])\n",
    "\n",
    "# train on mnist\n",
    "model_final.compile(optimizer='adam',\n",
    "                loss='sparse_categorical_crossentropy',\n",
    "                metrics=['accuracy'])\n",
    "model_final.fit(\n",
    "    x = ds_train_adv_images,\n",
    "    y = ds_train_adv_labels,\n",
    "    epochs=10,\n",
    "    shuffle=True\n",
    ")\n",
    "model_final.evaluate(ds_test_adv_images, ds_test_adv_labels)\n"
   ]
  },
  {
   "cell_type": "code",
   "execution_count": 78,
   "metadata": {
    "vscode": {
     "languageId": "python"
    }
   },
   "outputs": [],
   "source": [
    "# save model_adv\n",
    "model_final.save('research/models/mnist_adv_model_final.h5')"
   ]
  }
 ],
 "metadata": {
  "kernelspec": {
   "display_name": "Python 3",
   "language": "python",
   "name": "python3"
  },
  "orig_nbformat": 4,
  "vscode": {
   "interpreter": {
    "hash": "4d32610e65d0ba547d20b5ddccd11b31c7d91644470808fb362c82b58c120951"
   }
  }
 },
 "nbformat": 4,
 "nbformat_minor": 2
}
